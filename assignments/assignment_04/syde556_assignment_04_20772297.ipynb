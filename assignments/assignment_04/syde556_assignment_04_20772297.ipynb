{
 "cells": [
  {
   "cell_type": "markdown",
   "metadata": {},
   "source": [
    "# SYDE 556/750 --- Assignment 4\n",
    "**Student ID: 20772297**\n",
    "\n",
    "*Note:* Please include your numerical student ID only, do *not* include your name.\n",
    "\n",
    "*Note:* Refer to the [PDF](https://github.com/tcstewar/syde556-f21/raw/master/assignments/assignment_04/syde556_assignment_04.pdf) for the full instructions (including some hints), this notebook contains abbreviated instructions only. Cells you need to fill out are marked with a \"writing hand\" symbol. Of course, you can add new cells in between the instructions, but please leave the instructions intact to facilitate marking."
   ]
  },
  {
   "cell_type": "code",
   "execution_count": null,
   "metadata": {},
   "outputs": [],
   "source": [
    "# Import numpy and matplotlib\n",
    "import numpy as np\n",
    "import matplotlib.pyplot as plt\n",
    "\n",
    "# Import nengo and some helper functions for Q1\n",
    "import nengo\n",
    "from nengo.utils.ensemble import tuning_curves\n",
    "from nengo.utils.connection import eval_point_decoding\n",
    "\n",
    "# Fix the numpy random seed for reproducible results\n",
    "np.random.seed(18945)\n",
    "\n",
    "# Some formating options\n",
    "%config InlineBackend.figure_formats = ['svg']"
   ]
  },
  {
   "cell_type": "code",
   "execution_count": null,
   "metadata": {},
   "outputs": [],
   "source": [
    "def rmse(x, y):\n",
    "    return np.sqrt(np.mean((x - y)**2))"
   ]
  },
  {
   "cell_type": "markdown",
   "metadata": {},
   "source": [
    "# 1. Building an ensemble of neurons"
   ]
  },
  {
   "cell_type": "markdown",
   "metadata": {},
   "source": [
    "**a) Tuning curves.** Plot the population tuning curves. Plot the representation accuracy plot ($x - \\hat{x}$). Compute and report the RMSE."
   ]
  },
  {
   "cell_type": "code",
   "execution_count": null,
   "metadata": {},
   "outputs": [],
   "source": [
    "def q1a():\n",
    "    num_neurons = 100\n",
    "    intercepts = np.random.uniform(-1, 1, num_neurons)\n",
    "    max_rates = np.random.uniform(100, 200, num_neurons)\n",
    "    model = nengo.Network()\n",
    "    with model:\n",
    "\n",
    "        ens_1d = nengo.Ensemble(num_neurons,intercepts=intercepts,max_rates=max_rates, dimensions=1,neuron_type=nengo.LIF())\n",
    "        conn = nengo.Connection(ens_1d, ens_1d,synapse=0.01)\n",
    "        \n",
    "        \n",
    "    with nengo.Simulator(model) as sim:\n",
    "        eval_points, activities = tuning_curves(ens_1d, sim)\n",
    "        eval_points,targets,decoded = eval_point_decoding(conn, sim,eval_points)\n",
    "\n",
    "    plt.figure()\n",
    "    plt.plot(eval_points, activities)\n",
    "    # We could have alternatively shortened this to\n",
    "    # plt.plot(*tuning_curves(ens_1d, sim))\n",
    "    plt.ylabel(\"Firing rate (Hz)\")\n",
    "    plt.xlabel(\"Input scalar, x\")\n",
    "    plt.title(\"Tuning curves for 1D ensemble\")\n",
    "    plt.show()\n",
    "\n",
    "    plt.figure()\n",
    "    plt.plot(eval_points,targets - decoded)\n",
    "    plt.ylabel(\"Representation error\")\n",
    "    plt.xlabel(\"x - $\\hat{x}$\")\n",
    "    plt.title(\" Representation error for 1D ensemble\")\n",
    "    plt.show()\n",
    "\n",
    "    print(\"RMSE: \", np.sqrt(np.mean((targets - decoded)**2)))\n",
    "\n",
    "q1a()"
   ]
  },
  {
   "cell_type": "markdown",
   "metadata": {},
   "source": [
    "**b) RMSE and radius.** Compute the RMSE for (at least) the four different radii $0.5$, $1$, $2$, and $4$. Plot your results. Compute the RMSE for (at least) the four different radii $0.5$, $1$, $2$, and $4$. Plot your results. Make sure your neurons have the same (relative, i.e., scaled by the radius) $x$-intercepts and maximum rates across all experiments."
   ]
  },
  {
   "cell_type": "code",
   "execution_count": null,
   "metadata": {},
   "outputs": [],
   "source": [
    "def q1b():\n",
    "    num_neurons = 100\n",
    "    radii = [ 0.5, 1.0, 2.0, 4]\n",
    "    rmses = []\n",
    "    for radius in radii:\n",
    "        intercepts = np.random.uniform(-1, 1, num_neurons)\n",
    "        max_rates = np.random.uniform(100, 200, num_neurons)\n",
    "        model = nengo.Network()\n",
    "        with model:\n",
    "\n",
    "            ens_1d = nengo.Ensemble(num_neurons,intercepts=intercepts,max_rates=max_rates, dimensions=1,neuron_type=nengo.LIF(),radius=radius)\n",
    "            conn = nengo.Connection(ens_1d, ens_1d,synapse=0.01)\n",
    "        with nengo.Simulator(model) as sim:\n",
    "            eval_points, activities = tuning_curves(ens_1d, sim)\n",
    "            eval_points,targets,decoded = eval_point_decoding(conn, sim,eval_points)\n",
    "\n",
    "        rmses.append(np.sqrt(np.mean((targets - decoded)**2)))\n",
    "    \n",
    "    plt.figure()\n",
    "    plt.plot(eval_points, activities)\n",
    "    # We could have alternatively shortened this to\n",
    "    # plt.plot(*tuning_curves(ens_1d, sim))\n",
    "    plt.ylabel(\"Firing rate (Hz)\")\n",
    "    plt.xlabel(\"Input scalar, x\")\n",
    "    plt.title(\"Tuning curves for 1D ensemble\")\n",
    "    plt.show()\n",
    "    plt.figure()\n",
    "    plt.plot(radii,rmses)\n",
    "    plt.ylabel(\"RMSE\")\n",
    "    plt.xlabel(\"Radius\")\n",
    "    plt.title(\"RMSE vs Radius\")\n",
    "    plt.show()\n",
    "q1b()"
   ]
  },
  {
   "cell_type": "markdown",
   "metadata": {},
   "source": [
    "**c) Discussion.** What mathematical relationship between the radius and the RMSE do you observe (write down an equation)? Explain why this is the case."
   ]
  },
  {
   "cell_type": "markdown",
   "metadata": {},
   "source": [
    "linear relationship between radius and RMSE WRITE MORE HERE solve linear equation "
   ]
  },
  {
   "cell_type": "markdown",
   "metadata": {},
   "source": [
    "**d) RMSE and refractory period.** What happens to the RMSE and the tuning curves as $\\tau_\\mathrm{ref}$ changes between $1$ and $5\\,\\mathrm{ms}$? Plot the tuning curves for at least four different $\\tau_\\mathrm{ref}$ and produce a plot showing the RMSE over $\\tau_\\mathrm{ref}$. Again, make sure to use the same neuron ensemble parameters in all your trials."
   ]
  },
  {
   "cell_type": "code",
   "execution_count": null,
   "metadata": {},
   "outputs": [],
   "source": [
    "def q1d():\n",
    "    num_neurons = 100\n",
    "    trefs = [ 0.5e-3, 1.0e-3, 2.0e-3, 4e-3]\n",
    "    rmses = []\n",
    "    for tref in trefs:\n",
    "        intercepts = np.random.uniform(-1, 1, num_neurons)\n",
    "        max_rates = np.random.uniform(100, 200, num_neurons)\n",
    "        model = nengo.Network()\n",
    "        with model:\n",
    "\n",
    "            ens_1d = nengo.Ensemble(num_neurons,intercepts=intercepts,max_rates=max_rates, dimensions=1,neuron_type=nengo.LIF(tau_ref=tref))\n",
    "            conn = nengo.Connection(ens_1d, ens_1d,synapse=0.01)\n",
    "        with nengo.Simulator(model) as sim:\n",
    "            eval_points, activities = tuning_curves(ens_1d, sim)\n",
    "            eval_points,targets,decoded = eval_point_decoding(conn, sim,eval_points)\n",
    "\n",
    "        rmses.append(np.sqrt(np.mean((targets - decoded)**2)))\n",
    "    plt.figure()\n",
    "    plt.plot(eval_points, activities)\n",
    "    # We could have alternatively shortened this to\n",
    "    # plt.plot(*tuning_curves(ens_1d, sim))\n",
    "    plt.ylabel(\"Firing rate (Hz)\")\n",
    "    plt.xlabel(\"Input scalar, x\")\n",
    "    plt.title(\"Tuning curves for 1D ensemble\")\n",
    "    plt.show()\n",
    "    plt.figure()\n",
    "    plt.plot(trefs,rmses)\n",
    "    plt.ylabel(\"RMSE\")\n",
    "    plt.xlabel(\"Refractory period\")\n",
    "    plt.title(\"RMSE vs Refractory period\")\n",
    "    plt.show()\n",
    "q1d()"
   ]
  },
  {
   "cell_type": "markdown",
   "metadata": {},
   "source": [
    "**e) RMSE and membrane time constant.** What happens to the RMSE and the tuning curves as $\\tau_\\mathrm{RC}$ changes between $10$ and $100\\,\\mathrm{ms}$? Plot the tuning curves for at least four different $\\tau_\\mathrm{RC}$ and produce a plot showing the RMSE over $\\tau_\\mathrm{RC}$.  Again, make sure to use the same neuron ensemble parameters in all your trials."
   ]
  },
  {
   "cell_type": "code",
   "execution_count": null,
   "metadata": {},
   "outputs": [],
   "source": [
    "def q1e():\n",
    "    num_neurons = 100\n",
    "    trcs = [ i*1e-3 for i in range(10,100,5)]\n",
    "    rmses = []\n",
    "    for trc in trcs:\n",
    "        intercepts = np.random.uniform(-1, 1, num_neurons)\n",
    "        max_rates = np.random.uniform(100, 200, num_neurons)\n",
    "        model = nengo.Network()\n",
    "        with model:\n",
    "\n",
    "            ens_1d = nengo.Ensemble(num_neurons,intercepts=intercepts,max_rates=max_rates, dimensions=1,neuron_type=nengo.LIF(tau_rc=trc))\n",
    "            conn = nengo.Connection(ens_1d, ens_1d,synapse=0.01)\n",
    "        with nengo.Simulator(model) as sim:\n",
    "            eval_points, activities = tuning_curves(ens_1d, sim)\n",
    "            eval_points,targets,decoded = eval_point_decoding(conn, sim,eval_points)\n",
    "\n",
    "        rmses.append(np.sqrt(np.mean((targets - decoded)**2)))\n",
    "        plt.figure() # TODO MAKE NOT SO MANY PLOTS\n",
    "        plt.plot(eval_points, activities)\n",
    "        # We could have alternatively shortened this to\n",
    "        # plt.plot(*tuning_curves(ens_1d, sim))\n",
    "        plt.ylabel(\"Firing rate (Hz)\")\n",
    "        plt.xlabel(\"Input scalar, x\")\n",
    "        plt.title(\"Tuning curves for 1D ensemble\")\n",
    "        plt.show()\n",
    "    plt.figure()\n",
    "    plt.plot(trcs,rmses)\n",
    "    plt.ylabel(\"RMSE\")\n",
    "    plt.xlabel(\"RC time constant\")\n",
    "    plt.title(\"RMSE vs \\$\\\\tau_{rc}\\$\")\n",
    "    plt.show()\n",
    "q1e()"
   ]
  },
  {
   "cell_type": "markdown",
   "metadata": {},
   "source": [
    "**f) Discussion.** Discuss the last two results. Describe what happens to the tuning curves as $\\tau_\\mathrm{ref}$ and $\\tau_\\mathrm{RC}$ change (you do not need to come up with a mathematical relationship here). Explain why the change in tuning curve shape influences the RMSE in the way you observe."
   ]
  },
  {
   "cell_type": "markdown",
   "metadata": {},
   "source": [
    "✍ \\<YOUR SOLUTION HERE\\>"
   ]
  },
  {
   "cell_type": "markdown",
   "metadata": {},
   "source": [
    "# 2. Connecting neurons\n",
    "\n",
    "**a) Computing the identity function.** Show the input value and the decoded values from the two  ensembles in three separate plots. Run the simulation for $0.5\\,\\mathrm{s}$."
   ]
  },
  {
   "cell_type": "code",
   "execution_count": null,
   "metadata": {},
   "outputs": [],
   "source": [
    "def q2a():\n",
    "    model = nengo.Network()\n",
    "    num_neurons = 100\n",
    "    intercepts = np.random.uniform(-1, 1, num_neurons)\n",
    "    max_rates = np.random.uniform(100, 200, num_neurons)\n",
    "    interceps_half = np.random.uniform(-1, 1, num_neurons//2)\n",
    "    max_rates_half = np.random.uniform(100, 200, num_neurons//2)\n",
    "    with model:\n",
    "        # Create an abstract input signal that oscillates as sin(t)\n",
    "        nd_input = nengo.Node(lambda t: 0.0 if t < 0.5 else (1.0 if t < 1.0 else 0.0))\n",
    "\n",
    "        # Create the neuronal ensembles\n",
    "        A = nengo.Ensemble(num_neurons,intercepts=intercepts,max_rates=max_rates, dimensions=1,neuron_type=nengo.LIF())\n",
    "        B = nengo.Ensemble(num_neurons//2,intercepts=interceps_half,max_rates=max_rates_half, dimensions=1,neuron_type=nengo.LIF())\n",
    "\n",
    "        # Connect the input to the first neuronal ensemble\n",
    "        nengo.Connection(nd_input, A)\n",
    "\n",
    "        # Connect the first neuronal ensemble to the second\n",
    "        # (this is the communication channel)\n",
    "        nengo.Connection(A, B)\n",
    "    with model:\n",
    "        sin_probe = nengo.Probe(nd_input)\n",
    "        A_probe = nengo.Probe(A, synapse=0.01)  # ensemble output\n",
    "        B_probe = nengo.Probe(B, synapse=0.01)\n",
    "    with nengo.Simulator(model) as sim:\n",
    "        sim.run(2)\n",
    "    plt.figure(figsize=(9, 3))\n",
    "    plt.subplot(1, 3, 1)\n",
    "    plt.title(\"Input\")\n",
    "    plt.plot(sim.trange(), sim.data[sin_probe])\n",
    "    plt.ylim(0, 1.2)\n",
    "    plt.subplot(1, 3, 2)\n",
    "    plt.title(\"A\")\n",
    "    plt.plot(sim.trange(), sim.data[A_probe])\n",
    "    plt.ylim(0, 1.2)\n",
    "    plt.subplot(1, 3, 3)\n",
    "    plt.title(\"B\")\n",
    "    plt.plot(sim.trange(), sim.data[B_probe])\n",
    "    plt.ylim(0, 1.2)\n",
    "q2a()"
   ]
  },
  {
   "cell_type": "markdown",
   "metadata": {},
   "source": [
    "**b) Computing an affine transformation.** Make a new version of the model where instead of computing the identity function, it computes $y(t) = 1 - 2x(t)$. Show the same graphs as in part (a)."
   ]
  },
  {
   "cell_type": "code",
   "execution_count": null,
   "metadata": {},
   "outputs": [],
   "source": [
    "def q2b():\n",
    "    model = nengo.Network()\n",
    "    num_neurons = 100\n",
    "    intercepts = np.random.uniform(-1, 1, num_neurons)\n",
    "    max_rates = np.random.uniform(100, 200, num_neurons)\n",
    "    interceps_half = np.random.uniform(-1, 1, num_neurons//2)\n",
    "    max_rates_half = np.random.uniform(100, 200, num_neurons//2)\n",
    "    with model:\n",
    "        # Create an abstract input signal that oscillates as sin(t)\n",
    "        nd_input = nengo.Node(lambda t: 0.0 if t < 0.5 else (1.0 if t < 1.0 else 0.0))\n",
    "\n",
    "        # Create the neuronal ensembles\n",
    "        A = nengo.Ensemble(num_neurons,intercepts=intercepts,max_rates=max_rates, dimensions=1,neuron_type=nengo.LIF())\n",
    "        B = nengo.Ensemble(num_neurons//2,intercepts=interceps_half,max_rates=max_rates_half, dimensions=1,neuron_type=nengo.LIF())\n",
    "\n",
    "        # Connect the input to the first neuronal ensemble\n",
    "        nengo.Connection(nd_input, A)\n",
    "\n",
    "        # Connect the first neuronal ensemble to the second\n",
    "        # (this is the communication channel)\n",
    "        nengo.Connection(A, B,function=lambda x: 1 - 2*x)\n",
    "    with model:\n",
    "        sin_probe = nengo.Probe(nd_input)\n",
    "        A_probe = nengo.Probe(A, synapse=0.01)  # ensemble output\n",
    "        B_probe = nengo.Probe(B, synapse=0.01)\n",
    "    with nengo.Simulator(model) as sim:\n",
    "        sim.run(2)\n",
    "    plt.figure(figsize=(9, 3))\n",
    "    plt.subplot(1, 3, 1)\n",
    "    plt.title(\"Input\")\n",
    "    plt.plot(sim.trange(), sim.data[sin_probe])\n",
    "    plt.subplot(1, 3, 2)\n",
    "    plt.title(\"A\")\n",
    "    plt.plot(sim.trange(), sim.data[A_probe])\n",
    "    plt.subplot(1, 3, 3)\n",
    "    plt.title(\"B\")\n",
    "    plt.plot(sim.trange(), sim.data[B_probe])\n",
    "q2b()"
   ]
  },
  {
   "cell_type": "markdown",
   "metadata": {},
   "source": [
    "# 3. Dynamics\n",
    "\n",
    "**a) Transforming the dynamical system.** Rewrite the linear dynamical system describing the integrator in terms of $\\frac{\\mathrm{d}\\vec x(t)}{\\mathrm{d}t} = \\mathbf{A} \\mathbf{x} + \\mathbf{B} \\mathbf{u}$, i.e., write down the matrices $\\mathbf{A}$ and $\\mathbf{B}$ (you can just use the equations from class, you do not have to re-derive the equations) What are the matrices $\\mathbf{A}'$ and $\\mathbf{B}'$ we have to use when implementing this system using the recurrent connection post-synaptic filter?"
   ]
  },
  {
   "cell_type": "markdown",
   "metadata": {},
   "source": [
    "✍ \\<YOUR SOLUTION HERE\\>"
   ]
  },
  {
   "cell_type": "markdown",
   "metadata": {},
   "source": [
    "**b) Integrator using spiking neurons.**  Show the input, the ideal integral, and the value represented by the ensemble when the input is a value of $0.9$ from $t=0.04$ to $t=1.0$ (and $0$ for other times). Run the simulation for $1.5\\,\\mathrm{s}$."
   ]
  },
  {
   "cell_type": "code",
   "execution_count": null,
   "metadata": {},
   "outputs": [],
   "source": [
    "def q3b():\n",
    "    model = nengo.Network(label=\"Integrator\")\n",
    "    num_neurons = 100\n",
    "    intercepts = np.random.uniform(-1, 1, num_neurons)\n",
    "    max_rates = np.random.uniform(100, 200, num_neurons)\n",
    "    with model:\n",
    "        # Our ensemble consists of 100 leaky integrate-and-fire neurons,\n",
    "        # representing a one-dimensional signal\n",
    "        A = nengo.Ensemble(100, dimensions=1,intercepts=intercepts,max_rates=max_rates,neuron_type=nengo.LIF())\n",
    "        input = nengo.Node(lambda t: 0 if t < 0.04 else (0.9 if t < 1.0 else 0.0))\n",
    "        tau = 0.1\n",
    "        nengo.Connection(A, A, transform=[[1]], synapse=tau)  # Using a long time constant for stability\n",
    "\n",
    "        # Connect the input\n",
    "        nengo.Connection(input, A, transform=[[tau]], synapse=tau)  # The same time constant as recurrent to make it more 'ideal'\n",
    "        input_probe = nengo.Probe(input)\n",
    "        A_probe = nengo.Probe(A, synapse=0.01)\n",
    "    with nengo.Simulator(model) as sim:\n",
    "    # Run it for 6 seconds\n",
    "        sim.run(1.5)\n",
    "    plt.figure()\n",
    "    plt.plot(sim.trange(), sim.data[input_probe], label=\"Input\")\n",
    "    plt.plot(sim.trange(), sim.data[A_probe], \"k\", label=\"Integrator output\")\n",
    "    plt.legend()\n",
    "q3b()\n"
   ]
  },
  {
   "cell_type": "markdown",
   "metadata": {},
   "source": [
    "**c) Discussion.** What is the expected ideal result, i.e., if we just mathematically computed the integral of the input, what is the equation describing the integral? How does the simulated output compare to that ideal?"
   ]
  },
  {
   "cell_type": "markdown",
   "metadata": {},
   "source": [
    "✍ \\<YOUR SOLUTION HERE\\>"
   ]
  },
  {
   "cell_type": "markdown",
   "metadata": {},
   "source": [
    "**d) Simulation using rate neurons.** Change the neural simulation to rate mode. Re-run the simulation in rate mode. Show the resulting plots."
   ]
  },
  {
   "cell_type": "code",
   "execution_count": null,
   "metadata": {},
   "outputs": [],
   "source": [
    "def q3d():\n",
    "    model = nengo.Network(label=\"Integrator\")\n",
    "    num_neurons = 100\n",
    "    intercepts = np.random.uniform(-1, 1, num_neurons)\n",
    "    max_rates = np.random.uniform(100, 200, num_neurons)\n",
    "    with model:\n",
    "        # Our ensemble consists of 100 leaky integrate-and-fire neurons,\n",
    "        # representing a one-dimensional signal\n",
    "        A = nengo.Ensemble(100, dimensions=1,neuron_type=nengo.LIFRate(),intercepts=intercepts,max_rates=max_rates)\n",
    "        input = nengo.Node(lambda t: 0 if t < 0.04 else (0.9 if t < 1.0 else 0.0))\n",
    "        tau = 0.1\n",
    "        nengo.Connection(A, A, transform=[[1]], synapse=0.005)  # Using a long time constant for stability\n",
    "\n",
    "        # Connect the input\n",
    "        nengo.Connection(input, A, transform=[[tau]], synapse=0.05)  # The same time constant as recurrent to make it more 'ideal'\n",
    "        input_probe = nengo.Probe(input)\n",
    "        A_probe = nengo.Probe(A, synapse=0.01)\n",
    "    with nengo.Simulator(model) as sim:\n",
    "    # Run it for 6 seconds\n",
    "        sim.run(1.5)\n",
    "    plt.figure()\n",
    "    plt.plot(sim.trange(), sim.data[input_probe], label=\"Input\")\n",
    "    plt.plot(sim.trange(), sim.data[A_probe], \"k\", label=\"Integrator output\")\n",
    "    plt.legend()\n",
    "q3d()"
   ]
  },
  {
   "cell_type": "markdown",
   "metadata": {},
   "source": [
    "**e) Discussion.** How does this compare to the result in part (b)? What deviations from the ideal do you still observe? Where do those deviations come from?"
   ]
  },
  {
   "cell_type": "markdown",
   "metadata": {},
   "source": [
    "✍ \\<YOUR SOLUTION HERE\\>"
   ]
  },
  {
   "cell_type": "markdown",
   "metadata": {},
   "source": [
    "**f) Integration of a shorter input pulse.** Returning to spiking mode, change the input to be a value of $0.9$ from $t=0.04$ to $0.16$. Show the same plots as before (the input, the ideal, and the value represented by the ensemble over $1.5\\,\\mathrm{s}$)."
   ]
  },
  {
   "cell_type": "code",
   "execution_count": null,
   "metadata": {},
   "outputs": [],
   "source": [
    "def q3f():\n",
    "    model = nengo.Network(label=\"Integrator\")\n",
    "    num_neurons = 100\n",
    "    intercepts = np.random.uniform(-1, 1, num_neurons)\n",
    "    max_rates = np.random.uniform(100, 200, num_neurons)\n",
    "    with model:\n",
    "        # Our ensemble consists of 100 leaky integrate-and-fire neurons,\n",
    "        # representing a one-dimensional signal\n",
    "        A = nengo.Ensemble(100, dimensions=1,intercepts=intercepts,max_rates=max_rates,neuron_type=nengo.LIF())\n",
    "        input = nengo.Node(lambda t: 0 if t < 0.04 else (0.9 if t < 0.16 else 0.0))\n",
    "        tau = 0.1\n",
    "        nengo.Connection(A, A, transform=[[1]], synapse=tau)  # Using a long time constant for stability\n",
    "\n",
    "        # Connect the input\n",
    "        nengo.Connection(input, A, transform=[[tau]], synapse=tau)  # The same time constant as recurrent to make it more 'ideal'\n",
    "        input_probe = nengo.Probe(input)\n",
    "        A_probe = nengo.Probe(A, synapse=0.01)\n",
    "    with nengo.Simulator(model) as sim:\n",
    "    # Run it for 6 seconds\n",
    "        sim.run(1.5)\n",
    "    plt.figure()\n",
    "    plt.plot(sim.trange(), sim.data[input_probe], label=\"Input\")\n",
    "    plt.plot(sim.trange(), sim.data[A_probe], \"k\", label=\"Integrator output\")\n",
    "    plt.legend()\n",
    "q3f()"
   ]
  },
  {
   "cell_type": "markdown",
   "metadata": {},
   "source": [
    "**g) Discussion.** How does this compare to (b)? What is the ideal equation? Does it work as intended? If not, why is it better or worse?"
   ]
  },
  {
   "cell_type": "markdown",
   "metadata": {},
   "source": [
    "✍ \\<YOUR SOLUTION HERE\\>"
   ]
  },
  {
   "cell_type": "markdown",
   "metadata": {},
   "source": [
    "**h) Input ramp.** Change the input to a ramp input from $0$ to $0.9$ from $t=0$ to $t=0.45$ (and $0$ for $t>0.45$). Show the same plots as in the previous parts of this question."
   ]
  },
  {
   "cell_type": "code",
   "execution_count": null,
   "metadata": {},
   "outputs": [],
   "source": [
    "def q3h():\n",
    "    model = nengo.Network(label=\"Integrator\")\n",
    "    num_neurons = 100\n",
    "    intercepts = np.random.uniform(-1, 1, num_neurons)\n",
    "    max_rates = np.random.uniform(100, 200, num_neurons)\n",
    "    with model:\n",
    "        # Our ensemble consists of 100 leaky integrate-and-fire neurons,\n",
    "        # representing a one-dimensional signal\n",
    "        A = nengo.Ensemble(100, dimensions=1,intercepts=intercepts,max_rates=max_rates,neuron_type=nengo.LIF())\n",
    "        input = nengo.Node(lambda t: 0 if t < 0 else (2*t if t < 0.45 else 0.0))\n",
    "        tau = 0.1\n",
    "        nengo.Connection(A, A, transform=[[1]], synapse=tau)  # Using a long time constant for stability\n",
    "\n",
    "        # Connect the input\n",
    "        nengo.Connection(input, A, transform=[[tau]], synapse=tau)  # The same time constant as recurrent to make it more 'ideal'\n",
    "        input_probe = nengo.Probe(input)\n",
    "        A_probe = nengo.Probe(A, synapse=0.01)\n",
    "    with nengo.Simulator(model) as sim:\n",
    "    # Run it for 6 seconds\n",
    "        sim.run(1.5)\n",
    "    plt.figure()\n",
    "    plt.plot(sim.trange(), sim.data[input_probe], label=\"Input\")\n",
    "    plt.plot(sim.trange(), sim.data[A_probe], \"k\", label=\"Integrator output\")\n",
    "    plt.legend()\n",
    "q3h()"
   ]
  },
  {
   "cell_type": "markdown",
   "metadata": {},
   "source": [
    "**i) Discussion.** What does the ensemble end up representing, and why? What is the (ideal) equation for the curve traced out by the ensemble?"
   ]
  },
  {
   "cell_type": "markdown",
   "metadata": {},
   "source": [
    "✍ \\<YOUR SOLUTION HERE\\>"
   ]
  },
  {
   "cell_type": "markdown",
   "metadata": {},
   "source": [
    "**j) Sinusoidal input.** Change the input to $5\\sin(5t)$. Show the same plots as before."
   ]
  },
  {
   "cell_type": "code",
   "execution_count": null,
   "metadata": {},
   "outputs": [],
   "source": [
    "def q3j():\n",
    "    model = nengo.Network(label=\"Integrator\")\n",
    "    num_neurons = 100\n",
    "    intercepts = np.random.uniform(-1, 1, num_neurons)\n",
    "    max_rates = np.random.uniform(100, 200, num_neurons)\n",
    "    with model:\n",
    "        # Our ensemble consists of 100 leaky integrate-and-fire neurons,\n",
    "        # representing a one-dimensional signal\n",
    "        A = nengo.Ensemble(100, dimensions=1,intercepts=intercepts,max_rates=max_rates,neuron_type=nengo.LIF())\n",
    "        input = nengo.Node(lambda t: 0 if t < 0 else 5*np.sin(5*t))\n",
    "        tau = 0.1\n",
    "        nengo.Connection(A, A, transform=[[1]], synapse=tau)  # Using a long time constant for stability\n",
    "\n",
    "        # Connect the input\n",
    "        nengo.Connection(input, A, transform=[[tau]], synapse=tau)  # The same time constant as recurrent to make it more 'ideal'\n",
    "        input_probe = nengo.Probe(input)\n",
    "        A_probe = nengo.Probe(A, synapse=0.01)\n",
    "    with nengo.Simulator(model) as sim:\n",
    "    # Run it for 6 seconds\n",
    "        sim.run(1.5)\n",
    "    plt.figure()\n",
    "    plt.plot(sim.trange(), sim.data[input_probe], label=\"Input\")\n",
    "    plt.plot(sim.trange(), sim.data[A_probe], \"k\", label=\"Integrator output\")\n",
    "    plt.legend()\n",
    "\n",
    "q3j()"
   ]
  },
  {
   "cell_type": "markdown",
   "metadata": {},
   "source": [
    "**k) Discussion.** What should the value represented by the ensemble be? Write the equation. How well does it do? What are the differences between the model's behaviour and the expected ideal behaviour and why do these differences occur?"
   ]
  },
  {
   "cell_type": "markdown",
   "metadata": {},
   "source": [
    "✍ \\<YOUR SOLUTION HERE\\>"
   ]
  },
  {
   "cell_type": "markdown",
   "metadata": {},
   "source": [
    "**l) 🌟 Bonus question.** Implement a nonlinear dynamical system we have not seen in class (and that is not in the book). Demonstrate that it's working as expected"
   ]
  },
  {
   "cell_type": "markdown",
   "metadata": {},
   "source": [
    "✍ \\<YOUR SOLUTION HERE\\>"
   ]
  },
  {
   "cell_type": "code",
   "execution_count": null,
   "metadata": {},
   "outputs": [],
   "source": [
    "# ✍ <YOUR SOLUTION HERE>"
   ]
  }
 ],
 "metadata": {
  "kernelspec": {
   "display_name": "Python 3.7.13 ('syde556')",
   "language": "python",
   "name": "python3"
  },
  "language_info": {
   "codemirror_mode": {
    "name": "ipython",
    "version": 3
   },
   "file_extension": ".py",
   "mimetype": "text/x-python",
   "name": "python",
   "nbconvert_exporter": "python",
   "pygments_lexer": "ipython3",
   "version": "3.7.13"
  },
  "vscode": {
   "interpreter": {
    "hash": "fc25d316451cacb7d1d283217d7cbf4b627d5832b1aec0e8a083e8466a2dce57"
   }
  }
 },
 "nbformat": 4,
 "nbformat_minor": 4
}
